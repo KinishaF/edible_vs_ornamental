{
 "cells": [
  {
   "cell_type": "code",
   "execution_count": null,
   "id": "5509a816-1d48-400d-891e-a308476b3a94",
   "metadata": {},
   "outputs": [],
   "source": [
    "import pandas as pd\n",
    "import matplotlib.pyplot as plt\n",
    "import seaborn as snb\n",
    "import numpy as np\n",
    "import regex as re"
   ]
  },
  {
   "cell_type": "code",
   "execution_count": null,
   "id": "1e2d596a-7444-4097-b87b-914048d8fd13",
   "metadata": {},
   "outputs": [],
   "source": [
    "census_2012_veg1 = pd.read_csv('../data/census_2012_veg1.csv')\n",
    "census_2012_veg2 = pd.read_csv('../data/census_2012_veg2.csv')\n",
    "veg_2012 = pd.concat([census_2012_veg1, census_2012_veg2], ignore_index = True)"
   ]
  },
  {
   "cell_type": "code",
   "execution_count": null,
   "id": "57761285-53c6-4b47-8a95-9fdf36542560",
   "metadata": {},
   "outputs": [],
   "source": [
    "veg_2012.head()"
   ]
  },
  {
   "cell_type": "code",
   "execution_count": null,
   "id": "ed45f224-2389-49a9-a5ff-51750ef47361",
   "metadata": {},
   "outputs": [],
   "source": [
    "veg_2012['State'] = veg_2012['State'].str.title()"
   ]
  },
  {
   "cell_type": "code",
   "execution_count": null,
   "id": "33452199-8601-4201-bada-e2ac6f68b86e",
   "metadata": {},
   "outputs": [],
   "source": [
    "veg_2012 = veg_2012.drop(columns = ['Week Ending', 'Ag District', 'Ag District Code', 'County',\n",
    "       'County ANSI', 'Zip Code', 'Region', 'watershed_code', 'Watershed'])"
   ]
  },
  {
   "cell_type": "code",
   "execution_count": null,
   "id": "0c236a00-f191-495a-9be8-b9c02e8466cf",
   "metadata": {},
   "outputs": [],
   "source": [
    "veg_2012.info()"
   ]
  },
  {
   "cell_type": "code",
   "execution_count": null,
   "id": "229bcebb-673c-4ebb-88d9-a52de0200da6",
   "metadata": {},
   "outputs": [],
   "source": [
    "veg_2012.dtypes"
   ]
  },
  {
   "cell_type": "code",
   "execution_count": null,
   "id": "22f79349-e297-4d66-b8e0-face4498e779",
   "metadata": {},
   "outputs": [],
   "source": [
    "census_2017_veg1 = pd.read_csv('../data/census_2017_veg1.csv')\n",
    "census_2017_veg_take2 = pd.read_csv('../data/census_2017_veg_take2.csv')\n",
    "veg_2017 = pd.concat([census_2017_veg1, census_2017_veg_take2], ignore_index = True)"
   ]
  },
  {
   "cell_type": "code",
   "execution_count": null,
   "id": "722360ca-e209-4aa6-93d5-ac5cabb746dd",
   "metadata": {},
   "outputs": [],
   "source": [
    "veg_2017.head(1)"
   ]
  },
  {
   "cell_type": "code",
   "execution_count": null,
   "id": "c0e133e2-31e1-4cc1-861c-864ba0828887",
   "metadata": {},
   "outputs": [],
   "source": [
    "veg_2017['State'] = veg_2017['State'].str.title()"
   ]
  },
  {
   "cell_type": "code",
   "execution_count": null,
   "id": "23cf4e39-7c75-49bc-a369-2e4787eeb0d3",
   "metadata": {},
   "outputs": [],
   "source": [
    "veg_2017 = veg_2017.drop(columns = ['Week Ending', 'Ag District', 'Ag District Code', 'County',\n",
    "       'County ANSI', 'Zip Code', 'Region', 'watershed_code', 'Watershed'])"
   ]
  },
  {
   "cell_type": "code",
   "execution_count": null,
   "id": "b6573335-75a8-4442-a73e-18d1f40b216f",
   "metadata": {},
   "outputs": [],
   "source": [
    "veg_2017.info()"
   ]
  },
  {
   "cell_type": "code",
   "execution_count": null,
   "id": "a9a659b7-0c99-446e-ade5-8b1c3e0eeb77",
   "metadata": {},
   "outputs": [],
   "source": [
    "veg_2017.dtypes"
   ]
  },
  {
   "cell_type": "code",
   "execution_count": null,
   "id": "79b22ed6-15e8-4824-849d-60eaf81ab2f1",
   "metadata": {},
   "outputs": [],
   "source": [
    "census_2022_veg1 = pd.read_csv('../data/census_2022_veg1.csv')\n",
    "census_2022_veg_take2 = pd.read_csv('../data/census_2022_veg_take2.csv')\n",
    "veg_2022 = pd.concat([census_2022_veg1, census_2022_veg_take2], ignore_index = True)"
   ]
  },
  {
   "cell_type": "code",
   "execution_count": null,
   "id": "0ebab062-1e25-43f2-999d-6f3809cd6131",
   "metadata": {},
   "outputs": [],
   "source": [
    "veg_2022.head(1)"
   ]
  },
  {
   "cell_type": "code",
   "execution_count": null,
   "id": "d72d6fc6-709d-47cc-b95b-24c6378e98bf",
   "metadata": {},
   "outputs": [],
   "source": [
    "veg_2022['State'] = veg_2022['State'].str.title()"
   ]
  },
  {
   "cell_type": "code",
   "execution_count": null,
   "id": "fa18bb97-78a3-4884-931c-3a1dc8302481",
   "metadata": {},
   "outputs": [],
   "source": [
    "veg_2022 = veg_2022.drop(columns = ['Week Ending', 'Ag District', 'Ag District Code', 'County',\n",
    "       'County ANSI', 'Zip Code', 'Region', 'watershed_code', 'Watershed'])"
   ]
  },
  {
   "cell_type": "code",
   "execution_count": null,
   "id": "c18270b8-11de-4684-af17-e9fa6bdfba84",
   "metadata": {},
   "outputs": [],
   "source": [
    "veg_2022.info()"
   ]
  },
  {
   "cell_type": "code",
   "execution_count": null,
   "id": "0666fad3-6fcb-4d0d-94e3-17a4e5ec7b13",
   "metadata": {},
   "outputs": [],
   "source": [
    "hort_2012 = pd.read_csv('../data/census_2012_hort.csv')"
   ]
  },
  {
   "cell_type": "code",
   "execution_count": null,
   "id": "cf85b90c-001c-4c58-a5ee-327320436ed1",
   "metadata": {},
   "outputs": [],
   "source": [
    "hort_2012['State'] = hort_2012['State'].str.title()"
   ]
  },
  {
   "cell_type": "code",
   "execution_count": null,
   "id": "aaeccd6f-17eb-41f9-9bdd-781e7637db12",
   "metadata": {},
   "outputs": [],
   "source": [
    "hort_2012.columns"
   ]
  },
  {
   "cell_type": "code",
   "execution_count": null,
   "id": "58e26de1-a53a-4c5d-9d29-5adf37b86d8c",
   "metadata": {},
   "outputs": [],
   "source": [
    "hort_2012 = hort_2012.drop(columns = ['Week Ending', 'Ag District', 'Ag District Code', 'County',\n",
    "       'County ANSI', 'Zip Code', 'Region', 'watershed_code', 'Watershed'])"
   ]
  },
  {
   "cell_type": "code",
   "execution_count": null,
   "id": "0c94fd71-67fc-49ea-acd4-911c28796929",
   "metadata": {},
   "outputs": [],
   "source": [
    "hort_2012.info()"
   ]
  },
  {
   "cell_type": "code",
   "execution_count": null,
   "id": "6805c441-0de5-4ff1-a025-4d0f1cac2b58",
   "metadata": {},
   "outputs": [],
   "source": [
    "hort_2012.dtypes"
   ]
  },
  {
   "cell_type": "code",
   "execution_count": null,
   "id": "0cd2ed8d-140f-45ec-a7d3-b1b08f2bc04f",
   "metadata": {},
   "outputs": [],
   "source": [
    "hort_2017 = pd.read_csv('../data/census_2017_hort.csv')"
   ]
  },
  {
   "cell_type": "code",
   "execution_count": null,
   "id": "a07847b8-7b0a-4bc8-a4d4-3e3ee3735024",
   "metadata": {},
   "outputs": [],
   "source": [
    "hort_2017['State'] = hort_2017['State'].str.title()"
   ]
  },
  {
   "cell_type": "code",
   "execution_count": null,
   "id": "e715d771-cb76-433a-af10-0088100e9a0c",
   "metadata": {},
   "outputs": [],
   "source": [
    "hort_2017 = hort_2017.drop(columns = ['Week Ending', 'Ag District', 'Ag District Code', 'County',\n",
    "       'County ANSI', 'Zip Code', 'Region', 'watershed_code', 'Watershed'])"
   ]
  },
  {
   "cell_type": "code",
   "execution_count": null,
   "id": "cb4ac123-8a8f-46a7-8ff5-26920a2632f4",
   "metadata": {},
   "outputs": [],
   "source": [
    "hort_2017.info()"
   ]
  },
  {
   "cell_type": "code",
   "execution_count": null,
   "id": "9fa34e21-2262-41d5-bd4f-2d72f573ef95",
   "metadata": {},
   "outputs": [],
   "source": [
    "hort_2022 = pd.read_csv('../data/census_2022_hort.csv')"
   ]
  },
  {
   "cell_type": "code",
   "execution_count": null,
   "id": "7aed843b-d77a-469a-be55-ce7d286dd479",
   "metadata": {},
   "outputs": [],
   "source": [
    "hort_2022['State'] = hort_2022['State'].str.title()"
   ]
  },
  {
   "cell_type": "code",
   "execution_count": null,
   "id": "b2124b55-9d51-40a8-ad2d-ee30d8eb6670",
   "metadata": {},
   "outputs": [],
   "source": [
    "hort_2022 = hort_2022.drop(columns = ['Week Ending', 'Ag District', 'Ag District Code', 'County',\n",
    "       'County ANSI', 'Zip Code', 'Region', 'watershed_code', 'Watershed'])"
   ]
  },
  {
   "cell_type": "code",
   "execution_count": null,
   "id": "bd96365f-9611-484a-9a43-0da15197d6cd",
   "metadata": {},
   "outputs": [],
   "source": [
    "hort_2022.info()"
   ]
  },
  {
   "cell_type": "code",
   "execution_count": null,
   "id": "e8e4cde7-ccea-4cf3-8eca-cb0c5502631d",
   "metadata": {},
   "outputs": [],
   "source": [
    "census_2012_pop_final = pd.read_csv('../data/census_2012_pop_final.csv')\n",
    "census_2012_pop_final.head()"
   ]
  },
  {
   "cell_type": "code",
   "execution_count": null,
   "id": "182de7e1-d3c7-4942-8837-8e1a50ef1db6",
   "metadata": {},
   "outputs": [],
   "source": [
    "census_2012_pop_final = census_2012_pop_final.T.reset_index()\n",
    "census_2012_pop_final.head(3)"
   ]
  },
  {
   "cell_type": "code",
   "execution_count": null,
   "id": "a2144aa4-6c66-4c83-ac5f-a756bd7b31fb",
   "metadata": {},
   "outputs": [],
   "source": [
    "census_2012_pop_final.columns = census_2012_pop_final.iloc[0]"
   ]
  },
  {
   "cell_type": "code",
   "execution_count": null,
   "id": "8aa47529-c68d-4322-8af2-ded19097c95e",
   "metadata": {},
   "outputs": [],
   "source": [
    "census_2012_pop_final = census_2012_pop_final[1:]"
   ]
  },
  {
   "cell_type": "code",
   "execution_count": null,
   "id": "9b4279b0-9e32-4003-ab39-8888d00b3ba9",
   "metadata": {},
   "outputs": [],
   "source": [
    "census_2012_pop_final = census_2012_pop_final.rename(columns = {'Label (Grouping)': 'State'})"
   ]
  },
  {
   "cell_type": "code",
   "execution_count": null,
   "id": "18c24d9c-ea12-43a8-a520-f102d5556fc1",
   "metadata": {},
   "outputs": [],
   "source": [
    "census_2012_pop_final['YEAR'] = 2012"
   ]
  },
  {
   "cell_type": "code",
   "execution_count": null,
   "id": "e8a95403-660d-471c-ac3d-1419b099a79c",
   "metadata": {},
   "outputs": [],
   "source": [
    "census_2012_pop_final.dtypes"
   ]
  },
  {
   "cell_type": "code",
   "execution_count": null,
   "id": "153cc6d7-8fd8-4c07-b084-1531e062c6f7",
   "metadata": {},
   "outputs": [],
   "source": [
    "census_2017_pop_final = pd.read_csv('../data/census_2017_pop_final.csv')\n",
    "census_2017_pop_final.head()"
   ]
  },
  {
   "cell_type": "code",
   "execution_count": null,
   "id": "e86be998-fa23-4ae7-aa95-2d7e9002769c",
   "metadata": {},
   "outputs": [],
   "source": [
    "census_2017_pop_final = census_2017_pop_final.T.reset_index()\n",
    "census_2017_pop_final.head(3)"
   ]
  },
  {
   "cell_type": "code",
   "execution_count": null,
   "id": "4584bf11-472d-4a89-8b61-3a5d83f962bf",
   "metadata": {},
   "outputs": [],
   "source": [
    "census_2017_pop_final.columns = census_2017_pop_final.iloc[0]"
   ]
  },
  {
   "cell_type": "code",
   "execution_count": null,
   "id": "f21834be-cb8c-4dd3-9027-8707942bc81c",
   "metadata": {},
   "outputs": [],
   "source": [
    "census_2017_pop_final = census_2017_pop_final[1:]"
   ]
  },
  {
   "cell_type": "code",
   "execution_count": null,
   "id": "5b7aebdd-90a1-41ae-948a-cd7b7991ddcb",
   "metadata": {},
   "outputs": [],
   "source": [
    "census_2017_pop_final = census_2017_pop_final.rename(columns = {'Label (Grouping)': 'State'})"
   ]
  },
  {
   "cell_type": "code",
   "execution_count": null,
   "id": "f88872a4-cb72-4b44-bd38-0811f9d62989",
   "metadata": {},
   "outputs": [],
   "source": [
    "census_2017_pop_final['YEAR'] = 2017"
   ]
  },
  {
   "cell_type": "code",
   "execution_count": null,
   "id": "22dfc82b-3143-442a-893b-5e33658129c3",
   "metadata": {},
   "outputs": [],
   "source": [
    "census_2022_pop_final = pd.read_csv('../data/census_2022_pop_final.csv')"
   ]
  },
  {
   "cell_type": "code",
   "execution_count": null,
   "id": "53446482-555c-440a-a21e-5f88744823c3",
   "metadata": {},
   "outputs": [],
   "source": [
    "census_2022_pop_final = census_2022_pop_final.T.reset_index()"
   ]
  },
  {
   "cell_type": "code",
   "execution_count": null,
   "id": "43b2e2a3-e525-4815-9271-0495f90268e3",
   "metadata": {},
   "outputs": [],
   "source": [
    "census_2022_pop_final.columns = census_2022_pop_final.iloc[0]"
   ]
  },
  {
   "cell_type": "code",
   "execution_count": null,
   "id": "76d84434-469d-445b-a81f-de9dbd869165",
   "metadata": {},
   "outputs": [],
   "source": [
    "census_2022_pop_final = census_2022_pop_final[1:]"
   ]
  },
  {
   "cell_type": "code",
   "execution_count": null,
   "id": "0ca631d4-5eb9-4c5a-ab49-2fbc47792618",
   "metadata": {},
   "outputs": [],
   "source": [
    "census_2022_pop_final = census_2022_pop_final.rename(columns = {'Label (Grouping)': 'State'})"
   ]
  },
  {
   "cell_type": "code",
   "execution_count": null,
   "id": "3be7a959-6dca-4773-a07a-644d042ac5f5",
   "metadata": {},
   "outputs": [],
   "source": [
    "census_2022_pop_final = census_2022_pop_final.rename(columns = {'Label (Grouping)': 'State'})"
   ]
  },
  {
   "cell_type": "code",
   "execution_count": null,
   "id": "97507c82-75e6-4838-b5ae-a70cfc46a8ca",
   "metadata": {},
   "outputs": [],
   "source": [
    "census_2022_pop_final['YEAR'] = 2022"
   ]
  },
  {
   "cell_type": "code",
   "execution_count": null,
   "id": "0ad3f2e8-78cf-4475-9e7f-571e3f4d041a",
   "metadata": {},
   "outputs": [],
   "source": [
    "all_agriculture = pd.concat([veg_2012, veg_2017, veg_2022, hort_2012, hort_2017, hort_2022], ignore_index = True)"
   ]
  },
  {
   "cell_type": "code",
   "execution_count": null,
   "id": "85161b9d-d8a8-40e3-a158-2db891473d37",
   "metadata": {},
   "outputs": [],
   "source": [
    "all_agriculture = all_agriculture.rename(columns = {'Year': 'YEAR'})"
   ]
  },
  {
   "cell_type": "code",
   "execution_count": null,
   "id": "f52bbf96-d833-4c62-8b46-bb17f1d19c17",
   "metadata": {},
   "outputs": [],
   "source": [
    "census_2012_pop_final.columns.to_list()"
   ]
  },
  {
   "cell_type": "code",
   "execution_count": null,
   "id": "f3c99bf4-fee6-41c2-b7cf-509baff466a0",
   "metadata": {},
   "outputs": [],
   "source": [
    "all_census = pd.concat([census_2012_pop_final, census_2017_pop_final, census_2022_pop_final], ignore_index = True)"
   ]
  },
  {
   "cell_type": "code",
   "execution_count": null,
   "id": "829f979a-c3ad-4b2d-93ea-974c93134977",
   "metadata": {},
   "outputs": [],
   "source": [
    "ag_census = pd.merge(all_agriculture, all_census,\n",
    "         on=['State', 'YEAR'],\n",
    "         how = 'left'\n",
    "        )"
   ]
  },
  {
   "cell_type": "code",
   "execution_count": 1,
   "id": "d4e4536a-d353-4c0f-b67b-3d7c0e609597",
   "metadata": {},
   "outputs": [
    {
     "ename": "NameError",
     "evalue": "name 'ag_census' is not defined",
     "output_type": "error",
     "traceback": [
      "\u001b[1;31m---------------------------------------------------------------------------\u001b[0m",
      "\u001b[1;31mNameError\u001b[0m                                 Traceback (most recent call last)",
      "Cell \u001b[1;32mIn[1], line 1\u001b[0m\n\u001b[1;32m----> 1\u001b[0m ag_census\u001b[38;5;241m.\u001b[39mhead(\u001b[38;5;241m1\u001b[39m)\n",
      "\u001b[1;31mNameError\u001b[0m: name 'ag_census' is not defined"
     ]
    }
   ],
   "source": [
    "ag_census.head(1)"
   ]
  },
  {
   "cell_type": "code",
   "execution_count": null,
   "id": "03f3a69b-8d61-4c0e-a8c4-a886a8394a96",
   "metadata": {},
   "outputs": [],
   "source": [
    "pd.set_option('display.max_rows', None)"
   ]
  },
  {
   "cell_type": "code",
   "execution_count": null,
   "id": "c21cc6ec-1c46-46a2-a91e-b97be3c9dbd8",
   "metadata": {},
   "outputs": [],
   "source": [
    "ag_census.isna().sum().sort_values(ascending = False)"
   ]
  },
  {
   "cell_type": "code",
   "execution_count": null,
   "id": "7df57836-5f43-437f-8a5f-cf01a6f392b4",
   "metadata": {},
   "outputs": [],
   "source": [
    "ag_census['Commodity'].unique()"
   ]
  },
  {
   "cell_type": "code",
   "execution_count": null,
   "id": "9ddcf468-2ffe-40f2-94ef-0368ffa5355c",
   "metadata": {},
   "outputs": [],
   "source": [
    "edible_list = ['ARTICHOKES', 'ASPARAGUS', 'BEANS', 'BEETS', 'BROCCOLI', 'BRUSSELS SPROUTS', 'CABBAGE', 'CARROTS',  \n",
    "              'CAULIFLOWER', 'CELERY', 'CHICORY', 'CUCUMBERS', 'DAIKON', 'EGGPLANT', 'ESCAROLE & ENDIVE', 'GARLIC', 'GINGER ROOT',\n",
    "              'GINSENG', 'GOURDS', 'GREENS', 'HERBS', 'HORSERADISH', 'LETTUCE', 'MELONS', 'OKRA', 'ONIONS', 'PARSLEY', 'PARSNIPS', 'PEAS',\n",
    "              'PEPPERS', 'POTATOES', 'PUMPKINS', 'RADISHES', 'RHUBARB', 'SPINACH', 'SQUASH', 'SWEET CORN', 'SWEET POTATOES', 'TOMATOES', 'TURNIPS', \n",
    "              'VEGETABLES, OTHER', 'VEGETABLE SEEDS','WATERCRESS'\n",
    "              ]"
   ]
  },
  {
   "cell_type": "code",
   "execution_count": null,
   "id": "b5be816e-6579-47a2-b059-842beb77bcfb",
   "metadata": {},
   "outputs": [],
   "source": [
    "ornamental_list = ['AQUATIC PLANTS', 'BULBS & CORMS & RHIZOMES & TUBERS', 'CUT CHRISTMAS TREES', 'CUT CHRISTMAS TREES & SHORT TERM WOODY TREES',\n",
    "                  'CUT FLOWERS & CUT CULTIVATED GREENS', 'FLORICULTURE, OTHER', 'FLOWER SEEDS', 'FLOWERING PLANTS, POTTED', 'FOLIAGE PLANTS', \n",
    "                  'MUSHROOMS','MUSHROOM SPAWN', 'SHORT TERM WOODY TREES', 'SOD', \n",
    "                  ]"
   ]
  },
  {
   "cell_type": "code",
   "execution_count": null,
   "id": "828b6f2e-8d93-4912-a1f6-6542e28afc4c",
   "metadata": {},
   "outputs": [],
   "source": [
    "classification_list = [ ]\n",
    "for commodity in ag_census.Commodity: \n",
    "    if commodity in edible_list:\n",
    "        classification_list.append('Edible')\n",
    "    elif commodity in ornamental_list:\n",
    "        classification_list.append('Ornamental')\n",
    "    else: \n",
    "        classification_list.append('empty')"
   ]
  },
  {
   "cell_type": "code",
   "execution_count": null,
   "id": "d67d8c59-6946-4d0b-a534-469c5a6c93ab",
   "metadata": {},
   "outputs": [],
   "source": [
    "ag_census['Classification'] = classification_list"
   ]
  },
  {
   "cell_type": "code",
   "execution_count": null,
   "id": "fb18ff70-4ea9-4e4d-b275-ad3c85637dfa",
   "metadata": {},
   "outputs": [],
   "source": [
    "ag_census.head()"
   ]
  },
  {
   "cell_type": "code",
   "execution_count": null,
   "id": "c30c8fce-1907-405d-9cfe-4f3a42db2f69",
   "metadata": {},
   "outputs": [],
   "source": [
    "ag_census['Value'].dtype"
   ]
  },
  {
   "cell_type": "code",
   "execution_count": null,
   "id": "3ab6d9ed-e07e-49e5-bd58-a2373f9e9e65",
   "metadata": {},
   "outputs": [],
   "source": [
    "ag_census[['State', 'Commodity', 'Value']].head(10)"
   ]
  },
  {
   "cell_type": "code",
   "execution_count": null,
   "id": "f9b773e5-8432-4859-99e8-cdfcfc44134b",
   "metadata": {},
   "outputs": [],
   "source": [
    "ag_census[['State', 'pop_total']].head()"
   ]
  },
  {
   "cell_type": "code",
   "execution_count": null,
   "id": "e5ba0174-a3aa-42ad-843e-26695322b9b6",
   "metadata": {},
   "outputs": [],
   "source": [
    "#ag_census['pop_total'] = ag_census['pop_total'].str.replace(',','',).astype('int').head()"
   ]
  },
  {
   "cell_type": "code",
   "execution_count": null,
   "id": "605b08b5-2882-46b4-a720-0c8f57f4ad78",
   "metadata": {},
   "outputs": [],
   "source": [
    "states_by_edible = ag_census.loc[(ag_census['Classification'] == 'Edible') & (ag_census['Data Item'].str.endswith('ACRES HARVESTED'))\n",
    "                              & (~ag_census['Data Item'].str.contains('OPERATIONS|FRESH MARKET|PROCESSING'))\n",
    "                              & (ag_census['Domain'] == 'TOTAL') & (ag_census['Domain Category'] == 'NOT SPECIFIED')]"
   ]
  },
  {
   "cell_type": "code",
   "execution_count": null,
   "id": "47aa4bfe-0938-4d8f-985c-425969b453f6",
   "metadata": {},
   "outputs": [],
   "source": [
    "states_by_edible.head()"
   ]
  },
  {
   "cell_type": "code",
   "execution_count": null,
   "id": "c8122dd9-90b0-4c16-8273-ee705001f3ac",
   "metadata": {},
   "outputs": [],
   "source": [
    "states_by_edible['Value'] = states_by_edible['Value'].str.extract(r'([\\d,]+)')"
   ]
  },
  {
   "cell_type": "code",
   "execution_count": null,
   "id": "ba38d0a8-c6a6-47fc-bbd2-89d8b310460b",
   "metadata": {},
   "outputs": [],
   "source": [
    "states_by_edible = states_by_edible.dropna(subset = ['Value'])"
   ]
  },
  {
   "cell_type": "code",
   "execution_count": null,
   "id": "5c660a43-40d4-4493-a6e0-4234375d8e24",
   "metadata": {},
   "outputs": [],
   "source": [
    "states_by_edible['Value'] = states_by_edible['Value'].str.replace(',','').astype('int')"
   ]
  },
  {
   "cell_type": "code",
   "execution_count": null,
   "id": "2abf9cda-f5d0-4f90-8cc2-d54400404a09",
   "metadata": {},
   "outputs": [],
   "source": [
    "states_by_edible.head()"
   ]
  },
  {
   "cell_type": "code",
   "execution_count": null,
   "id": "e85ac706-6ab8-41bd-8ac4-824c19a12387",
   "metadata": {},
   "outputs": [],
   "source": [
    "states_by_edible[['State', 'Value']]"
   ]
  },
  {
   "cell_type": "code",
   "execution_count": null,
   "id": "8f7c9206-0017-4afe-ad52-26e2051f3f72",
   "metadata": {},
   "outputs": [],
   "source": [
    "states_by_ornamental = ag_census.loc[(ag_census['Classification'] == 'Ornamental') & (ag_census['Data Item'].str.endswith('SALES, MEASURED IN $')) &\n",
    "                    (~ag_census['Data Item'].str.contains('OPERATIONS|ACRES IN PRODUCTION|SQ FT IN PRODUCTION')) & (ag_census['Domain'] == 'TOTAL') &\n",
    "                    (ag_census['Domain Category'] == 'NOT SPECIFIED')].head(10) "
   ]
  },
  {
   "cell_type": "code",
   "execution_count": null,
   "id": "edad7239-729d-450b-8365-f1b6c246520f",
   "metadata": {},
   "outputs": [],
   "source": [
    "states_by_ornamental[['State', 'Value']]"
   ]
  },
  {
   "cell_type": "code",
   "execution_count": null,
   "id": "7e092007-6d96-48a9-8335-360935bf4d83",
   "metadata": {},
   "outputs": [],
   "source": [
    "states_by_ornamental.head()"
   ]
  },
  {
   "cell_type": "code",
   "execution_count": null,
   "id": "9d452e94-93a5-42d3-91e3-32c5faeee3db",
   "metadata": {},
   "outputs": [],
   "source": [
    "ag_census[['State', 'Commodity', 'Value']]"
   ]
  },
  {
   "cell_type": "code",
   "execution_count": null,
   "id": "84e8ac68-3113-496d-be32-a3bc38eeeecf",
   "metadata": {},
   "outputs": [],
   "source": [
    "states_by_edible[['State', 'pop_total']]"
   ]
  },
  {
   "cell_type": "code",
   "execution_count": null,
   "id": "4c43461c-51b2-4c8f-beed-7255fad8a452",
   "metadata": {},
   "outputs": [],
   "source": [
    "states_by_edible['pop_total'] = states_by_edible['pop_total'].str.replace(',','',).astype('int')"
   ]
  },
  {
   "cell_type": "code",
   "execution_count": null,
   "id": "dcf3481d-9b72-4242-b775-30a33e5f4e6e",
   "metadata": {},
   "outputs": [],
   "source": [
    "states_by_edible[['State', 'pop_total']]"
   ]
  },
  {
   "cell_type": "code",
   "execution_count": null,
   "id": "19cbe6a9-de91-47f2-a211-b4aae2f02599",
   "metadata": {},
   "outputs": [],
   "source": [
    "states_by_edible['pop_total'].dtype"
   ]
  },
  {
   "cell_type": "code",
   "execution_count": null,
   "id": "21eba790-c622-42dd-8968-bb5874729f2c",
   "metadata": {},
   "outputs": [],
   "source": [
    "states_by_ornamental['pop_total'] = states_by_ornamental['pop_total'].str.replace(',','',).astype('int')"
   ]
  },
  {
   "cell_type": "code",
   "execution_count": null,
   "id": "a5495f0f-b048-4ca0-a396-522fecd751a4",
   "metadata": {},
   "outputs": [],
   "source": [
    "states_by_ornamental[['State', 'pop_total']]"
   ]
  },
  {
   "cell_type": "code",
   "execution_count": null,
   "id": "94a49ce7-7bf2-49ba-831b-f8d9e8370d46",
   "metadata": {},
   "outputs": [],
   "source": [
    "ag_census_edible = ag_census.loc[(ag_census['Classification'] == 'Edible') & (ag_census['Data Item'].str.endswith('ACRES HARVESTED'))\n",
    "                                      & (~ag_census['Data Item'].str.contains('OPERATIONS|FRESH MARKET|PROCESSING'))\n",
    "                                      & (ag_census['Domain'] == 'TOTAL') & (ag_census['Domain Category'] == 'NOT SPECIFIED')]"
   ]
  },
  {
   "cell_type": "code",
   "execution_count": null,
   "id": "78d7b39d-2ea1-4a6f-a67f-ade314618e5c",
   "metadata": {},
   "outputs": [],
   "source": [
    "ag_census_edible.head()"
   ]
  },
  {
   "cell_type": "code",
   "execution_count": null,
   "id": "c9aa97b0-a55e-4ac8-b4ec-9ab80f5baf7c",
   "metadata": {},
   "outputs": [],
   "source": [
    "ag_census_ornamental = ag_census.loc[(ag_census['Classification'] == 'Ornamental') & (ag_census['Data Item'].str.endswith('SALES, MEASURED IN $')) &\n",
    "                            (~ag_census['Data Item'].str.contains('OPERATIONS|ACRES IN PRODUCTION|SQ FT IN PRODUCTION')) & (ag_census['Domain'] == 'TOTAL') &\n",
    "                            (ag_census['Domain Category'] == 'NOT SPECIFIED')].head(10) "
   ]
  },
  {
   "cell_type": "code",
   "execution_count": null,
   "id": "5353b804-4090-4aac-907c-a8721089c9f1",
   "metadata": {},
   "outputs": [],
   "source": [
    "ag_census_ornamental.head()"
   ]
  },
  {
   "cell_type": "markdown",
   "id": "90f5fa20-95ff-4e85-a141-38da120cc582",
   "metadata": {},
   "source": [
    "State information by crop per 100,000 people...how much of edible_list crops each state grows per 100,000 people"
   ]
  },
  {
   "cell_type": "code",
   "execution_count": null,
   "id": "41e35e36-3f87-45d1-8c51-c6bf0fd7af54",
   "metadata": {},
   "outputs": [],
   "source": [
    "ag_census_edible['Value'] / ag_census_edible['pop_total'] * 100000"
   ]
  },
  {
   "cell_type": "code",
   "execution_count": null,
   "id": "8a3f7885-e5ba-4de2-8b83-b630078d0fc4",
   "metadata": {},
   "outputs": [],
   "source": [
    "ag_census_edible.groupby('State')['Value Per Capita'].sum().sort_values(ascending = False)"
   ]
  },
  {
   "cell_type": "code",
   "execution_count": null,
   "id": "48445046-90cc-419e-9a2c-8e7ae15303ba",
   "metadata": {},
   "outputs": [],
   "source": [
    "ag_census_edible['Value Per Capita'] = ag_census_edible['Value'] / ag_census_edible['pop_total'] * 100000"
   ]
  },
  {
   "cell_type": "code",
   "execution_count": null,
   "id": "33bd87be-a7b3-4903-86fc-ccdaa89b0dd5",
   "metadata": {},
   "outputs": [],
   "source": [
    "ag_census_edible.head()"
   ]
  },
  {
   "cell_type": "markdown",
   "id": "0c9e8f45-0ab2-4199-abbc-8b18b0ce8bf1",
   "metadata": {},
   "source": [
    "Edible crop production per capita by state. In order to understand how edible food production gauges with population, I \n",
    "calculated acres harvested per 100,000 people for each U.S. state using USDA NASS vegetable census data and the U.S. Census\n",
    "Bureau population data. Below shows which states produce the most edible crops relative to their population size."
   ]
  },
  {
   "cell_type": "markdown",
   "id": "9990422a-ae32-419e-89fd-4322cb27470d",
   "metadata": {},
   "source": [
    "Sum of all per capita values of acres harvested for each state ranked by state from highest to lowest across all years\n",
    "(2012, 2017, 2022)."
   ]
  },
  {
   "cell_type": "code",
   "execution_count": null,
   "id": "37345d75-7234-4878-b877-85ef2ffa7201",
   "metadata": {},
   "outputs": [],
   "source": [
    "edible_per_capita_all_years = ag_census_edible.groupby('State')['Value Per Capita'].sum().reset_index().sort_values('Value Per Capita', ascending = False)"
   ]
  },
  {
   "cell_type": "code",
   "execution_count": null,
   "id": "482263f0-9607-479c-930b-89654729f6f0",
   "metadata": {},
   "outputs": [],
   "source": [
    "edible_per_capita_all_years.head()"
   ]
  },
  {
   "cell_type": "code",
   "execution_count": null,
   "id": "235f41ca-912e-4c95-9fbb-f284ed2fad74",
   "metadata": {},
   "outputs": [],
   "source": [
    "edible_states_trend = ag_census_edible.groupby(['State', 'Commodity', 'YEAR'])['Value Per Capita'].sum().reset_index().sort_values(\n",
    "                        by = ['State', 'YEAR', 'Value Per Capita'], ascending=[True, False, True])"
   ]
  },
  {
   "cell_type": "code",
   "execution_count": null,
   "id": "91fb074f-31da-41e5-967d-712b355fd0ad",
   "metadata": {},
   "outputs": [],
   "source": [
    "edible_states_trend.head()"
   ]
  },
  {
   "cell_type": "code",
   "execution_count": null,
   "id": "5e3115e4-a7c7-4cda-b4ea-a163e1b7668a",
   "metadata": {},
   "outputs": [],
   "source": [
    "ag_census_edible[['State', 'YEAR', 'Value', 'pop_total']].head()"
   ]
  },
  {
   "cell_type": "code",
   "execution_count": null,
   "id": "e5081478-9b4f-4f00-b6ff-8412a88e96ab",
   "metadata": {},
   "outputs": [],
   "source": []
  }
 ],
 "metadata": {
  "kernelspec": {
   "display_name": "Python [conda env:base] *",
   "language": "python",
   "name": "conda-base-py"
  },
  "language_info": {
   "codemirror_mode": {
    "name": "ipython",
    "version": 3
   },
   "file_extension": ".py",
   "mimetype": "text/x-python",
   "name": "python",
   "nbconvert_exporter": "python",
   "pygments_lexer": "ipython3",
   "version": "3.12.7"
  }
 },
 "nbformat": 4,
 "nbformat_minor": 5
}
